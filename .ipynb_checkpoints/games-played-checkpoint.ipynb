{
 "cells": [
  {
   "cell_type": "markdown",
   "metadata": {},
   "source": [
    "# Games played\n",
    "\n",
    "## Analysis of an (especially?) unlucky season of fantasy basketball (2021-2022)\n",
    "\n",
    "The season is over. And it ended badly. With a regular season of 5 wins and 11 losses that is good for second to last place in the standings.\n",
    "\n",
    "To exorcize what seemed a damned fantasy season, I decided to search for the cause of the horrible performance of my fantasy team. I started from the hypothesis that perhaps I've been spectacularly unlucky with the injuries, that if only my (best) players had been healthier things would have gone differently. I set out to test this hypothesis."
   ]
  },
  {
   "cell_type": "markdown",
   "metadata": {},
   "source": [
    "First of all, I'll import all the relevant packages for this project and define the path to the datasets."
   ]
  },
  {
   "cell_type": "code",
   "execution_count": 2,
   "metadata": {},
   "outputs": [],
   "source": [
    "# import packages\n",
    "import pandas as pd\n",
    "import numpy as np\n",
    "import seaborn as sns\n",
    "import matplotlib\n",
    "import matplotlib.pyplot as plt \n",
    "import os\n",
    "%matplotlib inline\n",
    "\n",
    "# set path to data files\n",
    "path_to_data = '/Users/giacomo/Postdoc_BMI_UWO/python/games-played'"
   ]
  },
  {
   "cell_type": "markdown",
   "metadata": {},
   "source": [
    "Different files have different naming for the teams (e.g., short or long), so I create a function to convert short names into long ones (will come in handy later for plotting). "
   ]
  },
  {
   "cell_type": "code",
   "execution_count": 8,
   "metadata": {},
   "outputs": [],
   "source": [
    "# create a function to convert team names\n",
    "def convert_to_fullname(short_name):\n",
    "    \"\"\"\n",
    "    Args:\n",
    "        short_name (str) - the abbreviated team name\n",
    "        \n",
    "    Returns:\n",
    "        full_name (str) - spelled out fantasy team name\n",
    "    \"\"\"\n",
    "    if short_name == 'MVB':\n",
    "        full_name = 'Masonville Bakers'\n",
    "    elif short_name == 'GOF': \n",
    "        full_name = 'Golden Goffers'\n",
    "    elif short_name == 'M1': \n",
    "        full_name = 'Mission #1'\n",
    "    elif short_name == 'IGWL': \n",
    "        full_name = 'Inglewood Lightnings'\n",
    "    elif short_name == 'FWL': \n",
    "        full_name = 'Follow Leite'\n",
    "    elif short_name == 'SAM': \n",
    "        full_name = 'LA Samras'\n",
    "    elif short_name == 'CVZ': \n",
    "        full_name = 'Civezzano Maned Meerkats'\n",
    "    elif short_name == 'PIMA': \n",
    "        full_name = 'Artists of Life'\n",
    "    elif short_name == 'BCH': \n",
    "        full_name = 'Borgo Ciodo Hammers'\n",
    "    elif short_name == 'STLP': \n",
    "        full_name = 'Steel Panthers'\n",
    "    elif short_name == 'DER': \n",
    "        full_name = 'Derrick Rossi'\n",
    "    elif short_name == 'LIFE': \n",
    "        full_name = 'Arbizzano Owls'\n",
    "    else:\n",
    "        raise Exception('Incorrect option!')\n",
    "    return full_name"
   ]
  },
  {
   "cell_type": "markdown",
   "metadata": {},
   "source": [
    "Next, I need to clean and combine the individual datasets. I have one .xlsx file per team (e.g., \"MVB_T.xlsx\", with T indicating that it is a team file), but, to make comparisons across teams easier, I want to have a single dataframe that includes data from all the teams. Also, in new columns, I want to add information about fantasy team membership and draft rank for each player (both draft rank overall, bid amount, and rank per team). This information can be extracted from the file \"draft.xlsx\". "
   ]
  },
  {
   "cell_type": "code",
   "execution_count": 30,
   "metadata": {},
   "outputs": [],
   "source": [
    "# load, clean, and combine datasets\n",
    "all_teams = pd.DataFrame()\n",
    "## loop through files for each team\n",
    "for file in os.listdir(path_to_data):\n",
    "    fname = os.fsdecode(file)\n",
    "    \n",
    "    if fname.endswith('_T.xlsx'):\n",
    "        #print(fname)\n",
    "        \n",
    "        ## create dataframe \n",
    "        df = pd.read_excel(fname)\n",
    "        # remove NaN entries\n",
    "        df = df[pd.isnull(df.Player)==False]\n",
    "        \n",
    "        ## add info about team name\n",
    "        team_name = [fname[0:-7:]]\n",
    "        df.insert(loc=4, column='FantasyTeam', value=team_name*len(df))\n",
    "        \n",
    "        ## add info about draft rank overall and bid amount\n",
    "        draft = pd.read_excel(os.path.join(path_to_data, 'draft.xlsx'))\n",
    "        draft_rank_overall = np.zeros([len(df)])\n",
    "        draft_bid = np.zeros([len(df)])   \n",
    "        full_team_name = []\n",
    "        for i in range(len(df)):\n",
    "            player = draft.loc[draft['Player'] == df.Player[i]]\n",
    "            f_team = draft['Fantasy Team'][draft['Player'] == df.Player[i]]\n",
    "            # check if player has been drafted by the same fantasy team    \n",
    "            # (a player may be on team A after being drafted by team B)\n",
    "            if len(player)>0:\n",
    "                if (f_team.values[0]==team_name[0]):    \n",
    "                    draft_rank_overall[i] = player['Pick'].values[0]\n",
    "                    draft_bid[i] = player['Bid'].values[0]\n",
    "                else:\n",
    "                    draft_rank_overall[i] = 0\n",
    "                    draft_bid[i] = 0\n",
    "            else:\n",
    "                draft_rank_overall[i] = 0\n",
    "                draft_bid[i] = 0\n",
    "            # add full team name\n",
    "            full_name = convert_to_fullname(team_name[0])\n",
    "            full_team_name.append(full_name)\n",
    "\n",
    "        ## convert info about draft rank overall into draft rank team\n",
    "        sorted_rank=np.sort(draft_rank_overall)\n",
    "        draft_rank_team = np.zeros(len(draft_rank_overall))    \n",
    "        c = 1\n",
    "        for j in range(len(draft_rank_overall)):\n",
    "            if sorted_rank[j]==0:\n",
    "                continue\n",
    "            else:\n",
    "                draft_rank_team[sorted_rank[j]==draft_rank_overall] = c \n",
    "                c = c+1  \n",
    "                \n",
    "        # insert new columns in original dataframe\n",
    "        df.insert(loc=5, column='FullTeamName', value=full_team_name)\n",
    "        df.insert(loc=6, column='DraftRankTeam', value=draft_rank_team)\n",
    "        df.insert(loc=7, column='DraftRankOverall', value=draft_rank_overall)\n",
    "        df.insert(loc=8, column='DraftBid', value=draft_bid)      \n",
    "        \n",
    "        # sanity check: there should be exactly 11 picks per team\n",
    "        if df.DraftRankTeam.max()>11:\n",
    "            raise Exception('Maximum draft rank team number has to be 11! Check code.')\n",
    "        \n",
    "        ## create multi-team dataframe by appending consecutive teams\n",
    "        all_teams = all_teams.append(df)\n",
    "\n",
    "## rename certain columns and remove others\n",
    "all_teams = all_teams.rename(columns={'Fantasy Points': 'FP', 'Average Fantasy Points per Game': 'FPg'})\n",
    "all_teams = all_teams.drop(axis=1, labels={'Opponent'})\n",
    "\n",
    "## save combined dataframe to file\n",
    "save_name = os.path.join(path_to_data, 'all_teams.xlsx')\n",
    "all_teams.to_excel(save_name)"
   ]
  },
  {
   "cell_type": "markdown",
   "metadata": {},
   "source": [
    "Let's take a look at the combined multi-team dataframe, with the added columns in it."
   ]
  },
  {
   "cell_type": "code",
   "execution_count": 170,
   "metadata": {},
   "outputs": [
    {
     "ename": "AttributeError",
     "evalue": "'DataFrame' object has no attribute 'loci'",
     "output_type": "error",
     "traceback": [
      "\u001b[0;31m---------------------------------------------------------------------------\u001b[0m",
      "\u001b[0;31mAttributeError\u001b[0m                            Traceback (most recent call last)",
      "\u001b[0;32m<ipython-input-170-632cd03cf519>\u001b[0m in \u001b[0;36m<module>\u001b[0;34m()\u001b[0m\n\u001b[1;32m      3\u001b[0m \u001b[0;31m# display df\u001b[0m\u001b[0;34m\u001b[0m\u001b[0;34m\u001b[0m\u001b[0m\n\u001b[1;32m      4\u001b[0m \u001b[0;31m#display(full_df.head())\u001b[0m\u001b[0;34m\u001b[0m\u001b[0;34m\u001b[0m\u001b[0m\n\u001b[0;32m----> 5\u001b[0;31m \u001b[0mdisplay\u001b[0m\u001b[0;34m(\u001b[0m\u001b[0mfull_df\u001b[0m\u001b[0;34m.\u001b[0m\u001b[0mloci\u001b[0m\u001b[0;34m[\u001b[0m\u001b[0;36m1\u001b[0m\u001b[0;34m,\u001b[0m\u001b[0;36m1\u001b[0m\u001b[0;34m]\u001b[0m\u001b[0;34m)\u001b[0m\u001b[0;34m\u001b[0m\u001b[0m\n\u001b[0m\u001b[1;32m      6\u001b[0m \u001b[0;31m#display(list(full_df.columns))\u001b[0m\u001b[0;34m\u001b[0m\u001b[0;34m\u001b[0m\u001b[0m\n",
      "\u001b[0;32m/Applications/anaconda3/lib/python3.6/site-packages/pandas/core/generic.py\u001b[0m in \u001b[0;36m__getattr__\u001b[0;34m(self, name)\u001b[0m\n\u001b[1;32m   5178\u001b[0m             \u001b[0;32mif\u001b[0m \u001b[0mself\u001b[0m\u001b[0;34m.\u001b[0m\u001b[0m_info_axis\u001b[0m\u001b[0;34m.\u001b[0m\u001b[0m_can_hold_identifiers_and_holds_name\u001b[0m\u001b[0;34m(\u001b[0m\u001b[0mname\u001b[0m\u001b[0;34m)\u001b[0m\u001b[0;34m:\u001b[0m\u001b[0;34m\u001b[0m\u001b[0m\n\u001b[1;32m   5179\u001b[0m                 \u001b[0;32mreturn\u001b[0m \u001b[0mself\u001b[0m\u001b[0;34m[\u001b[0m\u001b[0mname\u001b[0m\u001b[0;34m]\u001b[0m\u001b[0;34m\u001b[0m\u001b[0m\n\u001b[0;32m-> 5180\u001b[0;31m             \u001b[0;32mreturn\u001b[0m \u001b[0mobject\u001b[0m\u001b[0;34m.\u001b[0m\u001b[0m__getattribute__\u001b[0m\u001b[0;34m(\u001b[0m\u001b[0mself\u001b[0m\u001b[0;34m,\u001b[0m \u001b[0mname\u001b[0m\u001b[0;34m)\u001b[0m\u001b[0;34m\u001b[0m\u001b[0m\n\u001b[0m\u001b[1;32m   5181\u001b[0m \u001b[0;34m\u001b[0m\u001b[0m\n\u001b[1;32m   5182\u001b[0m     \u001b[0;32mdef\u001b[0m \u001b[0m__setattr__\u001b[0m\u001b[0;34m(\u001b[0m\u001b[0mself\u001b[0m\u001b[0;34m,\u001b[0m \u001b[0mname\u001b[0m\u001b[0;34m,\u001b[0m \u001b[0mvalue\u001b[0m\u001b[0;34m)\u001b[0m\u001b[0;34m:\u001b[0m\u001b[0;34m\u001b[0m\u001b[0m\n",
      "\u001b[0;31mAttributeError\u001b[0m: 'DataFrame' object has no attribute 'loci'"
     ]
    }
   ],
   "source": [
    "# load df\n",
    "full_df = pd.read_excel(os.path.join(path_to_data, 'all_teams.xlsx'))\n",
    "# display df\n",
    "#display(full_df.head())\n",
    "display(full_df.loc[1,1])\n",
    "#display(list(full_df.columns))"
   ]
  },
  {
   "cell_type": "markdown",
   "metadata": {},
   "source": [
    "Looks good. Now I want to define a function that takes as input my combined dataframe and returns information (e.g., sum or mean) about a certain variable per team (e.g., the games played column), according to multiple optional cut-off selection cirteria such as fantasy points per game, or draft ranking. Optionally, this function will also plot the results as bar and hist plot, potentially to be saved as an image."
   ]
  },
  {
   "cell_type": "code",
   "execution_count": 183,
   "metadata": {},
   "outputs": [
    {
     "name": "stdout",
     "output_type": "stream",
     "text": [
      "4996.0\n",
      "4574.0\n",
      "4996.0\n",
      "1283.0\n"
     ]
    },
    {
     "data": {
      "image/png": "[encoded data removed]",
      "text/plain": [
       "<matplotlib.figure.Figure at 0x1a1c59c160>"
      ]
     },
     "metadata": {},
     "output_type": "display_data"
    }
   ],
   "source": [
    "# define calc games played function and plot the results\n",
    "def stat_per_team(dataframe, var='GP', fcn=np.sum, fpg=0.0, drk=0, do_plot=False, save_img=False):\n",
    "    \"\"\"\n",
    "    Args:\n",
    "        dataframe (pd.dataframe) - input dataset\n",
    "         [optional inputs]:\n",
    "        var (str) - the variable/stat/column to select (default is games played)\n",
    "        fcn (np.method) - the function to be applied to the stat (default is sum)\n",
    "        fpg (float) - cutoff for avg fantasy points per game\n",
    "        drk (int) - cutoff for draft rank (for each team, range [1-11])\n",
    "        do-plot (bool) - whether to produce a figure (1), or not (0)\n",
    "        save_img (bool) - whether to save the figure to file (1), or not (0)\n",
    "        \n",
    "    Returns:\n",
    "        var_by_team (pd.dataframe) - summarized groupby df used to produce the plot\n",
    "    \"\"\"\n",
    "    ## create copy of original dataframe\n",
    "    df = dataframe.copy()\n",
    "                \n",
    "    ## extract information according to cutoffs\n",
    "    if fpg > 0:\n",
    "        df[var] = df[var][(df.FPg>=fpg)]\n",
    "        ## sanity check:\n",
    "        print(dataframe[var].sum())\n",
    "        print(df[var].sum())\n",
    "    if drk > 0:\n",
    "        temp = df[var]\n",
    "        df[var] = df[var][(df.DraftRankTeam>0) & (df.DraftRankTeam<=drk)]\n",
    "        ## sanity check:\n",
    "        print(dataframe[var].sum())\n",
    "        print(df[var].sum())\n",
    "    \n",
    "    ## group and summarize variable by fantasy team\n",
    "    var_by_team = df[var].groupby(df['FantasyTeam'])\n",
    "    var_by_team = fcn(var_by_team)\n",
    "    #display(var_by_team)\n",
    "                \n",
    "    ## plot the results as mosaic plot (optional)\n",
    "    if do_plot==1:\n",
    "        fig, axes = plt.subplots(nrows=1, ncols=2, figsize=(15,5))\n",
    "        \n",
    "        axes[0].plot(var_by_team)\n",
    "        axes[0].set_xlabel('Fantasy teams')\n",
    "        axes[0].set_ylabel(f'Number of {var}')    \n",
    "\n",
    "        #sns.distplot(var_by_team, bins=12)\n",
    "        plt.violinplot(var_by_team)\n",
    "        axes[1].axhline(var_by_team.MVB, color='red')\n",
    "        \n",
    "    ## save the plot as image (optional)\n",
    "    if save_img==1:\n",
    "        print('save image')\n",
    "            \n",
    "    # return information\n",
    "    return var_by_team\n",
    "\n",
    "res = stat_per_team(full_df, fpg=18, drk=3, do_plot=1)"
   ]
  },
  {
   "cell_type": "code",
   "execution_count": 81,
   "metadata": {},
   "outputs": [
    {
     "ename": "TypeError",
     "evalue": "'method' object is not subscriptable",
     "output_type": "error",
     "traceback": [
      "\u001b[0;31m---------------------------------------------------------------------------\u001b[0m",
      "\u001b[0;31mTypeError\u001b[0m                                 Traceback (most recent call last)",
      "\u001b[0;32m<ipython-input-81-95a601ee9180>\u001b[0m in \u001b[0;36m<module>\u001b[0;34m()\u001b[0m\n\u001b[1;32m      8\u001b[0m     \u001b[0mdf\u001b[0m\u001b[0;34m[\u001b[0m\u001b[0mvar\u001b[0m\u001b[0;34m]\u001b[0m\u001b[0;34m[\u001b[0m\u001b[0;34m(\u001b[0m\u001b[0mdf\u001b[0m\u001b[0;34m.\u001b[0m\u001b[0mFPg\u001b[0m\u001b[0;34m>=\u001b[0m\u001b[0mfpg\u001b[0m\u001b[0;34m)\u001b[0m\u001b[0;34m]\u001b[0m\u001b[0;34m\u001b[0m\u001b[0m\n\u001b[1;32m      9\u001b[0m \u001b[0;32mif\u001b[0m \u001b[0mdrk\u001b[0m \u001b[0;34m>\u001b[0m \u001b[0;36m0\u001b[0m\u001b[0;34m:\u001b[0m\u001b[0;34m\u001b[0m\u001b[0m\n\u001b[0;32m---> 10\u001b[0;31m     \u001b[0mdf\u001b[0m\u001b[0;34m.\u001b[0m\u001b[0mvar\u001b[0m\u001b[0;34m[\u001b[0m\u001b[0;34m(\u001b[0m\u001b[0mdf\u001b[0m\u001b[0;34m.\u001b[0m\u001b[0mDraftRankTeam\u001b[0m\u001b[0;34m>=\u001b[0m\u001b[0mdrk\u001b[0m\u001b[0;34m)\u001b[0m\u001b[0;34m]\u001b[0m\u001b[0;34m\u001b[0m\u001b[0m\n\u001b[0m\u001b[1;32m     11\u001b[0m \u001b[0;31m#display(df.head())\u001b[0m\u001b[0;34m\u001b[0m\u001b[0;34m\u001b[0m\u001b[0m\n\u001b[1;32m     12\u001b[0m \u001b[0;34m\u001b[0m\u001b[0m\n",
      "\u001b[0;31mTypeError\u001b[0m: 'method' object is not subscriptable"
     ]
    }
   ],
   "source": [
    "fpg = 1\n",
    "drk = 1\n",
    "var = 'GP'\n",
    "df = full_df.copy()\n",
    "                \n",
    "## extract information according to cutoffs\n",
    "if fpg > 0:\n",
    "    df[var][(df.FPg>=fpg)] \n",
    "if drk > 0:\n",
    "    df.var[(df.DraftRankTeam>=drk)]\n",
    "#display(df.head())\n",
    "\n",
    "var_by_team = df[var].groupby(df['FantasyTeam']).sum()\n",
    "plt.plot(var_by_team)\n",
    "#display(np.sum(var_by_team))"
   ]
  },
  {
   "cell_type": "code",
   "execution_count": null,
   "metadata": {},
   "outputs": [],
   "source": [
    "# add randomization test (shuffle team-player labels 1000 times look at the distribution of games played)"
   ]
  },
  {
   "cell_type": "code",
   "execution_count": 18,
   "metadata": {},
   "outputs": [],
   "source": []
  },
  {
   "cell_type": "code",
   "execution_count": 1,
   "metadata": {},
   "outputs": [],
   "source": []
  },
  {
   "cell_type": "code",
   "execution_count": null,
   "metadata": {},
   "outputs": [],
   "source": []
  },
  {
   "cell_type": "code",
   "execution_count": 8,
   "metadata": {},
   "outputs": [],
   "source": []
  },
  {
   "cell_type": "code",
   "execution_count": null,
   "metadata": {},
   "outputs": [],
   "source": []
  },
  {
   "cell_type": "code",
   "execution_count": null,
   "metadata": {},
   "outputs": [],
   "source": []
  },
  {
   "cell_type": "code",
   "execution_count": null,
   "metadata": {},
   "outputs": [],
   "source": []
  },
  {
   "cell_type": "code",
   "execution_count": null,
   "metadata": {},
   "outputs": [],
   "source": []
  },
  {
   "cell_type": "code",
   "execution_count": null,
   "metadata": {},
   "outputs": [],
   "source": []
  },
  {
   "cell_type": "code",
   "execution_count": null,
   "metadata": {},
   "outputs": [],
   "source": []
  },
  {
   "cell_type": "code",
   "execution_count": null,
   "metadata": {},
   "outputs": [],
   "source": []
  },
  {
   "cell_type": "code",
   "execution_count": null,
   "metadata": {},
   "outputs": [],
   "source": []
  },
  {
   "cell_type": "code",
   "execution_count": null,
   "metadata": {},
   "outputs": [],
   "source": []
  }
 ],
 "metadata": {
  "kernelspec": {
   "display_name": "Python 3",
   "language": "python",
   "name": "python3"
  },
  "language_info": {
   "codemirror_mode": {
    "name": "ipython",
    "version": 3
   },
   "file_extension": ".py",
   "mimetype": "text/x-python",
   "name": "python",
   "nbconvert_exporter": "python",
   "pygments_lexer": "ipython3",
   "version": "3.6.4"
  }
 },
 "nbformat": 4,
 "nbformat_minor": 2
}
